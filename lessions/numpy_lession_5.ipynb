{
 "cells": [
  {
   "cell_type": "markdown",
   "id": "ac64e1fe-bd4c-4357-9ddd-85eb1bbbd3eb",
   "metadata": {},
   "source": [
    "### Shape and reshape np arrayes"
   ]
  }
 ],
 "metadata": {
  "kernelspec": {
   "display_name": "Python 3 (ipykernel)",
   "language": "python",
   "name": "python3"
  },
  "language_info": {
   "codemirror_mode": {
    "name": "ipython",
    "version": 3
   },
   "file_extension": ".py",
   "mimetype": "text/x-python",
   "name": "python",
   "nbconvert_exporter": "python",
   "pygments_lexer": "ipython3",
   "version": "3.11.7"
  }
 },
 "nbformat": 4,
 "nbformat_minor": 5
}
