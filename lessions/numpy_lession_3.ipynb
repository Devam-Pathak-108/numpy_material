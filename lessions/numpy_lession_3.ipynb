{
 "cells": [
  {
   "cell_type": "code",
   "execution_count": 4,
   "id": "b87d22ff-72d1-4836-a244-4fc9b3ed7433",
   "metadata": {},
   "outputs": [],
   "source": [
    "import numpy as np"
   ]
  },
  {
   "cell_type": "code",
   "execution_count": 5,
   "id": "007a377a-d1a2-44d4-a19b-b5c58dad5590",
   "metadata": {},
   "outputs": [],
   "source": [
    "arr1 = np.arange(10)"
   ]
  },
  {
   "cell_type": "code",
   "execution_count": 6,
   "id": "1f074325-7be0-4449-9c0b-4f187a0012d4",
   "metadata": {},
   "outputs": [
    {
     "data": {
      "text/plain": [
       "array([0, 1, 2, 3, 4, 5, 6, 7, 8, 9])"
      ]
     },
     "execution_count": 6,
     "metadata": {},
     "output_type": "execute_result"
    }
   ],
   "source": [
    "arr1"
   ]
  },
  {
   "cell_type": "code",
   "execution_count": 9,
   "id": "9891a0cd-bbe5-4f76-9e5f-cd0d7efa187a",
   "metadata": {},
   "outputs": [
    {
     "data": {
      "text/plain": [
       "array([0.        , 1.        , 1.41421356, 1.73205081, 2.        ,\n",
       "       2.23606798, 2.44948974, 2.64575131, 2.82842712, 3.        ])"
      ]
     },
     "execution_count": 9,
     "metadata": {},
     "output_type": "execute_result"
    }
   ],
   "source": [
    "# square root of each element\n",
    "np.sqrt(arr1)"
   ]
  },
  {
   "cell_type": "code",
   "execution_count": 13,
   "id": "4a51c44b-a2ef-4bbc-9edf-f138a3c06db5",
   "metadata": {},
   "outputs": [
    {
     "data": {
      "text/plain": [
       "(array([-5, -4, -3, -2, -1,  0,  1,  2,  3,  4]),\n",
       " array([5, 4, 3, 2, 1, 0, 1, 2, 3, 4]))"
      ]
     },
     "execution_count": 13,
     "metadata": {},
     "output_type": "execute_result"
    }
   ],
   "source": [
    "# Finding absolute value basically remove '-'.\n",
    "arr2 = np.arange(-5,5)\n",
    "arr2 , np.absolute(arr2) # see"
   ]
  },
  {
   "cell_type": "code",
   "execution_count": 15,
   "id": "816b615d-46e0-493b-a39d-00fb10796842",
   "metadata": {},
   "outputs": [
    {
     "data": {
      "text/plain": [
       "array([1.00000000e+00, 2.71828183e+00, 7.38905610e+00, 2.00855369e+01,\n",
       "       5.45981500e+01, 1.48413159e+02, 4.03428793e+02, 1.09663316e+03,\n",
       "       2.98095799e+03, 8.10308393e+03])"
      ]
     },
     "execution_count": 15,
     "metadata": {},
     "output_type": "execute_result"
    }
   ],
   "source": [
    "#Exponentials..\n",
    "np.exp(arr1)"
   ]
  },
  {
   "cell_type": "code",
   "execution_count": 16,
   "id": "a77e14fa-c5ee-45d0-8d97-1e37f103aeb2",
   "metadata": {},
   "outputs": [
    {
     "data": {
      "text/plain": [
       "(4, -5)"
      ]
     },
     "execution_count": 16,
     "metadata": {},
     "output_type": "execute_result"
    }
   ],
   "source": [
    "#Finding maximum and minimum\n",
    "arr2.max() , arr2.min()"
   ]
  },
  {
   "cell_type": "code",
   "execution_count": 20,
   "id": "557161b1-3987-419b-96c4-ea74b79e7691",
   "metadata": {},
   "outputs": [
    {
     "data": {
      "text/plain": [
       "array([-1, -1, -1, -1, -1,  0,  1,  1,  1,  1])"
      ]
     },
     "execution_count": 20,
     "metadata": {},
     "output_type": "execute_result"
    }
   ],
   "source": [
    "#find the sign(negitive or positive or 0) it returns 0 -> 0 , negitive -> -1  and positive -> 1\n",
    "np.sign(arr2)"
   ]
  },
  {
   "cell_type": "code",
   "execution_count": 23,
   "id": "2618f750-7158-496f-a591-5a2631f0e787",
   "metadata": {},
   "outputs": [
    {
     "name": "stderr",
     "output_type": "stream",
     "text": [
      "C:\\Users\\devampathak\\AppData\\Local\\Temp\\ipykernel_7324\\527691583.py:2: RuntimeWarning: divide by zero encountered in log\n",
      "  np.cos(arr2) , np.sin(arr2) , np.log(arr2) # 0 or negitives will not work for log... and 0 will not work for cos and sin\n",
      "C:\\Users\\devampathak\\AppData\\Local\\Temp\\ipykernel_7324\\527691583.py:2: RuntimeWarning: invalid value encountered in log\n",
      "  np.cos(arr2) , np.sin(arr2) , np.log(arr2) # 0 or negitives will not work for log... and 0 will not work for cos and sin\n"
     ]
    },
    {
     "data": {
      "text/plain": [
       "(array([ 0.28366219, -0.65364362, -0.9899925 , -0.41614684,  0.54030231,\n",
       "         1.        ,  0.54030231, -0.41614684, -0.9899925 , -0.65364362]),\n",
       " array([ 0.95892427,  0.7568025 , -0.14112001, -0.90929743, -0.84147098,\n",
       "         0.        ,  0.84147098,  0.90929743,  0.14112001, -0.7568025 ]),\n",
       " array([       nan,        nan,        nan,        nan,        nan,\n",
       "              -inf, 0.        , 0.69314718, 1.09861229, 1.38629436]))"
      ]
     },
     "execution_count": 23,
     "metadata": {},
     "output_type": "execute_result"
    }
   ],
   "source": [
    "# Sin , cos or log of elements\n",
    "np.cos(arr2) , np.sin(arr2) , np.log(arr2) # 0 or negitives will not work for log... and 0 will not work for cos and sin"
   ]
  },
  {
   "cell_type": "markdown",
   "id": "0f5fc517-ca01-4a2c-b3f5-efc8dd5a1ed0",
   "metadata": {},
   "source": [
    "### https://numpy.org/doc/stable/reference/ufuncs.html  \n",
    "#### explore more univeral functions for numpy here"
   ]
  },
  {
   "cell_type": "code",
   "execution_count": null,
   "id": "d078dc80-8348-40ff-afb9-18ccce51d2e9",
   "metadata": {},
   "outputs": [],
   "source": []
  }
 ],
 "metadata": {
  "kernelspec": {
   "display_name": "Python 3 (ipykernel)",
   "language": "python",
   "name": "python3"
  },
  "language_info": {
   "codemirror_mode": {
    "name": "ipython",
    "version": 3
   },
   "file_extension": ".py",
   "mimetype": "text/x-python",
   "name": "python",
   "nbconvert_exporter": "python",
   "pygments_lexer": "ipython3",
   "version": "3.11.7"
  }
 },
 "nbformat": 4,
 "nbformat_minor": 5
}
