{
 "cells": [
  {
   "cell_type": "code",
   "execution_count": 1,
   "id": "482993ec-b7e6-4995-aed2-7e347f165534",
   "metadata": {},
   "outputs": [],
   "source": [
    "import numpy as np"
   ]
  },
  {
   "cell_type": "code",
   "execution_count": 6,
   "id": "68b4a6e7-2e07-42f0-9e00-81fc2c06b7ca",
   "metadata": {},
   "outputs": [
    {
     "data": {
      "text/plain": [
       "array([0, 1, 2, 3, 4])"
      ]
     },
     "execution_count": 6,
     "metadata": {},
     "output_type": "execute_result"
    }
   ],
   "source": [
    "#Slicing the array. It's same is we slice string!!\n",
    "arr1 = np.arange(0,13)\n",
    "arr1[0:5] # this returns the first 4 items. "
   ]
  },
  {
   "cell_type": "code",
   "execution_count": 8,
   "id": "5d5c8ff8-5e70-42f9-bc9f-2a6c487da67c",
   "metadata": {},
   "outputs": [
    {
     "data": {
      "text/plain": [
       "array([ 4,  5,  6,  7,  8,  9, 10, 11, 12])"
      ]
     },
     "execution_count": 8,
     "metadata": {},
     "output_type": "execute_result"
    }
   ],
   "source": [
    "# this return from index 4 (5th item ) to the end. \n",
    "arr1[4:]"
   ]
  },
  {
   "cell_type": "code",
   "execution_count": 15,
   "id": "2e125a55-f067-440d-b8b1-6b1cf05f76be",
   "metadata": {},
   "outputs": [
    {
     "data": {
      "text/plain": [
       "array([10, 11])"
      ]
     },
     "execution_count": 15,
     "metadata": {},
     "output_type": "execute_result"
    }
   ],
   "source": [
    "# Negative slices\n",
    "arr1[-3:-1] \n",
    "# Basically the starting index is last_index - 3 and ending index is last_index - 1 in above example so there it's 10 : 11"
   ]
  },
  {
   "cell_type": "code",
   "execution_count": 14,
   "id": "5a0fccd3-5af5-4271-bb72-de8d40fd7f1f",
   "metadata": {},
   "outputs": [
    {
     "data": {
      "text/plain": [
       "array([3, 5, 7, 9])"
      ]
     },
     "execution_count": 14,
     "metadata": {},
     "output_type": "execute_result"
    }
   ],
   "source": [
    "# Steps...\n",
    "arr1[3:10:2]\n",
    "# From 3 to 10 and with the gap of 1 between them  \n",
    "# If we enter 3 the with the gap of 2."
   ]
  },
  {
   "cell_type": "code",
   "execution_count": 17,
   "id": "00ab2e86-22ce-4658-82b2-b1a756eb0a3b",
   "metadata": {},
   "outputs": [
    {
     "data": {
      "text/plain": [
       "array([ 0,  2,  4,  6,  8, 10, 12])"
      ]
     },
     "execution_count": 17,
     "metadata": {},
     "output_type": "execute_result"
    }
   ],
   "source": [
    "arr1[::2]\n",
    "# whole arr with the gap of 1 in between."
   ]
  },
  {
   "cell_type": "code",
   "execution_count": 33,
   "id": "a2d1c23f-b678-428a-a5f5-c6ec486ab4ed",
   "metadata": {},
   "outputs": [],
   "source": [
    "# 2D array\n",
    "arr2 = np.array([[1,2,3,4,5],\n",
    "                 [6,7,8,9,0],\n",
    "                 [11,22,33,44,55]])"
   ]
  },
  {
   "cell_type": "code",
   "execution_count": 30,
   "id": "8038d57c-34b8-4047-85eb-02c5bfa4487a",
   "metadata": {},
   "outputs": [
    {
     "data": {
      "text/plain": [
       "8"
      ]
     },
     "execution_count": 30,
     "metadata": {},
     "output_type": "execute_result"
    }
   ],
   "source": [
    "#Getting element in 2D array \n",
    "arr2[1,2]"
   ]
  },
  {
   "cell_type": "code",
   "execution_count": 42,
   "id": "e043a395-e00b-44c7-8d50-9a5a6af17707",
   "metadata": {},
   "outputs": [
    {
     "data": {
      "text/plain": [
       "(array([[1, 2],\n",
       "        [6, 7]]),\n",
       " array([[ 1,  2,  3],\n",
       "        [ 6,  7,  8],\n",
       "        [11, 22, 33]]),\n",
       " array([[ 8,  9],\n",
       "        [33, 44]]))"
      ]
     },
     "execution_count": 42,
     "metadata": {},
     "output_type": "execute_result"
    }
   ],
   "source": [
    "#Slicing in 2D array\n",
    "arr2[0:2,0:2] , arr2[0:3,0:3] , arr2[1:3,2:4] \n",
    "#It's kinda trippy. so try as many combinations as you can and play around with it so you can get better understanding"
   ]
  },
  {
   "cell_type": "code",
   "execution_count": null,
   "id": "dd7c41f7-e536-4252-a49d-c62c7149d227",
   "metadata": {},
   "outputs": [],
   "source": []
  }
 ],
 "metadata": {
  "kernelspec": {
   "display_name": "Python 3 (ipykernel)",
   "language": "python",
   "name": "python3"
  },
  "language_info": {
   "codemirror_mode": {
    "name": "ipython",
    "version": 3
   },
   "file_extension": ".py",
   "mimetype": "text/x-python",
   "name": "python",
   "nbconvert_exporter": "python",
   "pygments_lexer": "ipython3",
   "version": "3.11.7"
  }
 },
 "nbformat": 4,
 "nbformat_minor": 5
}
