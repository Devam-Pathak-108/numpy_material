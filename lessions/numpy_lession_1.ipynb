{
 "cells": [
  {
   "cell_type": "markdown",
   "id": "7cd4885e-ccdd-4a35-825c-b42a4caee722",
   "metadata": {},
   "source": [
    "### Why numpy?"
   ]
  },
  {
   "cell_type": "markdown",
   "id": "720b97c7-e577-4f25-ad6f-105d2d7bbafe",
   "metadata": {},
   "source": [
    "we can have all types of data in list and it will slow the process down, \n",
    "where as numpy don't and it increase the efficiency"
   ]
  },
  {
   "cell_type": "code",
   "execution_count": 4,
   "id": "5deba5ae-44c4-482b-8358-f0ecdb3ce015",
   "metadata": {},
   "outputs": [
    {
     "data": {
      "text/plain": [
       "array([1, 2, 3, 4])"
      ]
     },
     "execution_count": 4,
     "metadata": {},
     "output_type": "execute_result"
    }
   ],
   "source": [
    "import numpy as np\n",
    "\n",
    "#creating numpy array.\n",
    "np_arr = np.array([1,2,3,4])\n",
    "np_arr"
   ]
  },
  {
   "cell_type": "markdown",
   "id": "dfbb93f6-fdb6-4126-b46b-9bd128f06f64",
   "metadata": {},
   "source": [
    "#### Get the shape(Dimension) of array  "
   ]
  },
  {
   "cell_type": "code",
   "execution_count": 26,
   "id": "5cc67fba-91cb-44c8-9f3c-a586346c5c83",
   "metadata": {},
   "outputs": [
    {
     "data": {
      "text/plain": [
       "1"
      ]
     },
     "execution_count": 26,
     "metadata": {},
     "output_type": "execute_result"
    }
   ],
   "source": [
    "np_arr.ndim # this is 1 dimension array"
   ]
  },
  {
   "cell_type": "code",
   "execution_count": 27,
   "id": "f2e05bd9-14a2-4105-af74-21a8458b46ca",
   "metadata": {},
   "outputs": [
    {
     "data": {
      "text/plain": [
       "(4,)"
      ]
     },
     "execution_count": 27,
     "metadata": {},
     "output_type": "execute_result"
    }
   ],
   "source": [
    "np_arr.shape # this 1 dimension array has 4 elements in it"
   ]
  },
  {
   "cell_type": "code",
   "execution_count": 30,
   "id": "2f99e29f-bef9-4999-8891-b30eb9de5a86",
   "metadata": {},
   "outputs": [
    {
     "data": {
      "text/plain": [
       "(2, 3)"
      ]
     },
     "execution_count": 30,
     "metadata": {},
     "output_type": "execute_result"
    }
   ],
   "source": [
    "np.array([[1,2,3],[4,5,6]]).shape # this is 2 dimension array which is 3 element in each dimension!! "
   ]
  },
  {
   "cell_type": "code",
   "execution_count": 31,
   "id": "52bbffca-359d-468f-9c6d-7f25f8df53ae",
   "metadata": {},
   "outputs": [
    {
     "data": {
      "text/plain": [
       "array([0, 1, 2, 3, 4, 5, 6, 7, 8, 9])"
      ]
     },
     "execution_count": 31,
     "metadata": {},
     "output_type": "execute_result"
    }
   ],
   "source": [
    "# have numpy range\n",
    "arr1 = np.arange(10)\n",
    "arr1"
   ]
  },
  {
   "cell_type": "code",
   "execution_count": 9,
   "id": "649a071f-dcee-410c-b671-01c4e0ce82ab",
   "metadata": {},
   "outputs": [
    {
     "data": {
      "text/plain": [
       "array([0, 2, 4, 6, 8])"
      ]
     },
     "execution_count": 9,
     "metadata": {},
     "output_type": "execute_result"
    }
   ],
   "source": [
    "#step\n",
    "# [start,stop,step]\n",
    "arr2 = np.arange(0,10,2)\n",
    "arr2"
   ]
  },
  {
   "cell_type": "code",
   "execution_count": 12,
   "id": "ba323e13-9786-4fe2-a090-7cd6ebb40dd8",
   "metadata": {},
   "outputs": [
    {
     "data": {
      "text/plain": [
       "array([0., 0., 0.])"
      ]
     },
     "execution_count": 12,
     "metadata": {},
     "output_type": "execute_result"
    }
   ],
   "source": [
    "# array of zeros (Can do multi dimensions)\n",
    "arr3 = np.zeros(3)\n",
    "arr3"
   ]
  },
  {
   "cell_type": "code",
   "execution_count": 16,
   "id": "1a80fe39-c198-4684-9f95-6cfa470fbf07",
   "metadata": {},
   "outputs": [
    {
     "data": {
      "text/plain": [
       "(array([[0., 0., 0.],\n",
       "        [0., 0., 0.],\n",
       "        [0., 0., 0.]]),\n",
       " array([[[0., 0., 0.],\n",
       "         [0., 0., 0.],\n",
       "         [0., 0., 0.]],\n",
       " \n",
       "        [[0., 0., 0.],\n",
       "         [0., 0., 0.],\n",
       "         [0., 0., 0.]],\n",
       " \n",
       "        [[0., 0., 0.],\n",
       "         [0., 0., 0.],\n",
       "         [0., 0., 0.]]]))"
      ]
     },
     "execution_count": 16,
     "metadata": {},
     "output_type": "execute_result"
    }
   ],
   "source": [
    "# array of zeros (Can do multi dimensions)\n",
    "arr4 = np.zeros((3,3))\n",
    "arr5 = np.zeros((3,3,3))\n",
    "arr4,arr5"
   ]
  },
  {
   "cell_type": "code",
   "execution_count": 22,
   "id": "3410847b-434b-45ff-a518-6a6d90472923",
   "metadata": {},
   "outputs": [
    {
     "data": {
      "text/plain": [
       "(array([6, 6, 6]),\n",
       " array([[6, 6, 6, 6, 6, 6, 6, 6, 6, 6],\n",
       "        [6, 6, 6, 6, 6, 6, 6, 6, 6, 6],\n",
       "        [6, 6, 6, 6, 6, 6, 6, 6, 6, 6]]))"
      ]
     },
     "execution_count": 22,
     "metadata": {},
     "output_type": "execute_result"
    }
   ],
   "source": [
    "#array of number you want\n",
    "# ((shape),number)\n",
    "arr6 = np.full((3),6)\n",
    "arr7 = np.full((3,10),6)\n",
    "arr6 , arr7"
   ]
  },
  {
   "cell_type": "code",
   "execution_count": 23,
   "id": "a4c49bd5-e89a-4754-8e90-1fa8304f6a50",
   "metadata": {},
   "outputs": [
    {
     "data": {
      "text/plain": [
       "array([1, 3, 4, 5, 6, 7, 8, 0])"
      ]
     },
     "execution_count": 23,
     "metadata": {},
     "output_type": "execute_result"
    }
   ],
   "source": [
    "# from the list to np array\n",
    "my_list = [1,3,4,5,6,7,8,0]\n",
    "arr8 = np.array(my_list)\n",
    "arr8"
   ]
  },
  {
   "cell_type": "code",
   "execution_count": null,
   "id": "05e8329f-0a1a-444d-9ef1-9cd331f210b8",
   "metadata": {},
   "outputs": [],
   "source": [
    "#"
   ]
  }
 ],
 "metadata": {
  "kernelspec": {
   "display_name": "Python 3 (ipykernel)",
   "language": "python",
   "name": "python3"
  },
  "language_info": {
   "codemirror_mode": {
    "name": "ipython",
    "version": 3
   },
   "file_extension": ".py",
   "mimetype": "text/x-python",
   "name": "python",
   "nbconvert_exporter": "python",
   "pygments_lexer": "ipython3",
   "version": "3.11.7"
  }
 },
 "nbformat": 4,
 "nbformat_minor": 5
}
