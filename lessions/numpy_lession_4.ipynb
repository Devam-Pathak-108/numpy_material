{
 "cells": [
  {
   "cell_type": "markdown",
   "id": "dd5c7f0f-922e-48c0-a801-e5076518a289",
   "metadata": {},
   "source": [
    "#### Copy vs view"
   ]
  },
  {
   "cell_type": "code",
   "execution_count": 25,
   "id": "38b471da-8dc6-40ab-b7fc-d624f75cd031",
   "metadata": {},
   "outputs": [],
   "source": [
    "import numpy as np"
   ]
  },
  {
   "cell_type": "code",
   "execution_count": 26,
   "id": "66575468-fc8c-419e-b272-312ca81acd2b",
   "metadata": {},
   "outputs": [],
   "source": [
    "arr1 = np.arange(10)"
   ]
  },
  {
   "cell_type": "code",
   "execution_count": 13,
   "id": "1e0b2390-60a2-4cfb-b09a-78f3c8be6e5a",
   "metadata": {},
   "outputs": [],
   "source": [
    "arr_view = arr1.view()\n",
    "    #  or \n",
    "arr_view = arr1"
   ]
  },
  {
   "cell_type": "code",
   "execution_count": 19,
   "id": "6db54cde-622c-4500-8681-948139a19fc4",
   "metadata": {},
   "outputs": [
    {
     "name": "stdout",
     "output_type": "stream",
     "text": [
      "[88  1  2  3  4  5  6  7  8  9] Original\n",
      "[88  1  2  3  4  5  6  7  8  9] view\n"
     ]
    }
   ],
   "source": [
    "print(arr1 , \"Original\")\n",
    "print(arr_view , \"view\")"
   ]
  },
  {
   "cell_type": "code",
   "execution_count": 15,
   "id": "9e5b0851-e12f-4a56-8eb0-150cdcf7abaf",
   "metadata": {},
   "outputs": [],
   "source": [
    "arr_view[0] = 88 "
   ]
  },
  {
   "cell_type": "code",
   "execution_count": 34,
   "id": "b84b1bdc-1b7d-4fe3-873a-b5b91a238d8f",
   "metadata": {},
   "outputs": [
    {
     "name": "stdout",
     "output_type": "stream",
     "text": [
      "[0 1 2 3 4 5 6 7 8 9] Original\n",
      "[88  1  2  3  4  5  6  7  8  9] view\n"
     ]
    }
   ],
   "source": [
    "print(arr1 , \"Original\") # Original changes when we change the view.\n",
    "print(arr_view , \"view\")\n",
    "# as viewing only sort the reference or the pointer of the data from arr1. if we change the data from any of the arr1 or arr_view both will change, as they share the same data."
   ]
  },
  {
   "cell_type": "code",
   "execution_count": 27,
   "id": "c51d5f09-77f4-4d94-a465-88e23fb7357b",
   "metadata": {},
   "outputs": [],
   "source": [
    "arr1 = np.arange(10)"
   ]
  },
  {
   "cell_type": "code",
   "execution_count": 28,
   "id": "f6f16c46-bf91-4162-99d5-66bda4e67493",
   "metadata": {},
   "outputs": [],
   "source": [
    "arr_copy = arr1.copy()"
   ]
  },
  {
   "cell_type": "code",
   "execution_count": 29,
   "id": "c405c1c5-0977-4b5a-93df-6996902d8c0c",
   "metadata": {},
   "outputs": [
    {
     "name": "stdout",
     "output_type": "stream",
     "text": [
      "[0 1 2 3 4 5 6 7 8 9] Original\n",
      "[0 1 2 3 4 5 6 7 8 9] view\n"
     ]
    }
   ],
   "source": [
    "print(arr1 , \"Original\")\n",
    "print(arr_copy , \"view\")"
   ]
  },
  {
   "cell_type": "code",
   "execution_count": 32,
   "id": "47689d01-c1b8-4942-8d57-99e84d720caa",
   "metadata": {},
   "outputs": [],
   "source": [
    "arr_copy[0] = 88 "
   ]
  },
  {
   "cell_type": "code",
   "execution_count": 33,
   "id": "4762b774-e497-468f-a7d3-7c3fecc7eff6",
   "metadata": {},
   "outputs": [
    {
     "name": "stdout",
     "output_type": "stream",
     "text": [
      "[0 1 2 3 4 5 6 7 8 9] Original\n",
      "[88  1  2  3  4  5  6  7  8  9] view\n"
     ]
    }
   ],
   "source": [
    "print(arr1 , \"Original\")\n",
    "print(arr_copy, \"view\")"
   ]
  },
  {
   "cell_type": "code",
   "execution_count": null,
   "id": "60d3a166-5451-4461-a854-7b35fdc43e18",
   "metadata": {},
   "outputs": [],
   "source": []
  }
 ],
 "metadata": {
  "kernelspec": {
   "display_name": "Python 3 (ipykernel)",
   "language": "python",
   "name": "python3"
  },
  "language_info": {
   "codemirror_mode": {
    "name": "ipython",
    "version": 3
   },
   "file_extension": ".py",
   "mimetype": "text/x-python",
   "name": "python",
   "nbconvert_exporter": "python",
   "pygments_lexer": "ipython3",
   "version": "3.11.7"
  }
 },
 "nbformat": 4,
 "nbformat_minor": 5
}
