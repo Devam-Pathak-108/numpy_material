{
 "cells": [
  {
   "cell_type": "markdown",
   "id": "6339fa2b-d3a7-4dd3-8728-0ba22d1a5388",
   "metadata": {},
   "source": [
    "### Original notebook form the video : https://github.com/KeithGalli/NumPy"
   ]
  },
  {
   "cell_type": "code",
   "execution_count": 2,
   "id": "fa8205fc-ead6-45a5-ac11-c089fdb57bcb",
   "metadata": {},
   "outputs": [],
   "source": [
    "import numpy as np"
   ]
  },
  {
   "cell_type": "markdown",
   "id": "13dba1a9-5862-4d45-a3ed-52eb5f3c6637",
   "metadata": {},
   "source": [
    "##### Basic"
   ]
  },
  {
   "cell_type": "code",
   "execution_count": 19,
   "id": "7c8b95c2-828d-4bc1-8197-8fa80df192c5",
   "metadata": {},
   "outputs": [
    {
     "name": "stdout",
     "output_type": "stream",
     "text": [
      "[1 2 3 4] \n",
      " [[1 2 3 4]\n",
      " [5 6 7 8]]\n"
     ]
    }
   ],
   "source": [
    "a = np.array([1,2,3,4])\n",
    "b = np.array([[1,2,3,4],[5,6,7,8]],dtype = 'int32')\n",
    "print(a,'\\n',b)"
   ]
  },
  {
   "cell_type": "code",
   "execution_count": 24,
   "id": "6d2c991c-3fd2-4fb8-9243-244da616ff67",
   "metadata": {},
   "outputs": [
    {
     "data": {
      "text/plain": [
       "(2, 4)"
      ]
     },
     "execution_count": 24,
     "metadata": {},
     "output_type": "execute_result"
    }
   ],
   "source": [
    "# Get Shape\n",
    "b.shape"
   ]
  },
  {
   "cell_type": "code",
   "execution_count": 25,
   "id": "58067bd1-7e5d-4e7c-82e2-cc539ee7ea13",
   "metadata": {},
   "outputs": [
    {
     "data": {
      "text/plain": [
       "2"
      ]
     },
     "execution_count": 25,
     "metadata": {},
     "output_type": "execute_result"
    }
   ],
   "source": [
    "#Get dimensions\n",
    "b.ndim"
   ]
  },
  {
   "cell_type": "code",
   "execution_count": 26,
   "id": "b0eab455-cfc6-41c9-8897-57a3853ca503",
   "metadata": {},
   "outputs": [
    {
     "data": {
      "text/plain": [
       "dtype('int32')"
      ]
     },
     "execution_count": 26,
     "metadata": {},
     "output_type": "execute_result"
    }
   ],
   "source": [
    "#Get Data type\n",
    "b.dtype"
   ]
  },
  {
   "cell_type": "code",
   "execution_count": 28,
   "id": "e4eeb2d1-e2bc-44c3-980c-6d75a75e66a4",
   "metadata": {},
   "outputs": [
    {
     "data": {
      "text/plain": [
       "4"
      ]
     },
     "execution_count": 28,
     "metadata": {},
     "output_type": "execute_result"
    }
   ],
   "source": [
    "#Get Size\n",
    "b.itemsize"
   ]
  },
  {
   "cell_type": "code",
   "execution_count": 20,
   "id": "40769a68-1250-4de2-8fc1-37b4843a9c1e",
   "metadata": {},
   "outputs": [
    {
     "data": {
      "text/plain": [
       "8"
      ]
     },
     "execution_count": 20,
     "metadata": {},
     "output_type": "execute_result"
    }
   ],
   "source": [
    "b.size"
   ]
  },
  {
   "cell_type": "code",
   "execution_count": 23,
   "id": "dfdfd399-25b9-431e-a42d-7ea1a1be93e5",
   "metadata": {},
   "outputs": [
    {
     "data": {
      "text/plain": [
       "32"
      ]
     },
     "execution_count": 23,
     "metadata": {},
     "output_type": "execute_result"
    }
   ],
   "source": [
    "b.nbytes"
   ]
  },
  {
   "cell_type": "markdown",
   "id": "3183d111-61c7-4abe-b1ab-8a7a7678d6d5",
   "metadata": {},
   "source": [
    "##### Accessing changing specific elements, rows, columns, etc.."
   ]
  },
  {
   "cell_type": "code",
   "execution_count": 30,
   "id": "a2b253e3-2df9-4fbf-a7e6-fb4f74be4e7c",
   "metadata": {},
   "outputs": [],
   "source": [
    "arr = np.array([[1,2,3,4,5,6,7],[8,9,10,11,12,13,14]])"
   ]
  },
  {
   "cell_type": "code",
   "execution_count": 32,
   "id": "1d3802ef-c990-4d94-a347-60299c64c4e8",
   "metadata": {},
   "outputs": [
    {
     "data": {
      "text/plain": [
       "13"
      ]
     },
     "execution_count": 32,
     "metadata": {},
     "output_type": "execute_result"
    }
   ],
   "source": [
    "arr[1][5] \n",
    "arr[1,5]"
   ]
  },
  {
   "cell_type": "code",
   "execution_count": 34,
   "id": "d9bbe5f4-d30e-4d08-af64-87508c177ee8",
   "metadata": {},
   "outputs": [
    {
     "data": {
      "text/plain": [
       "array([ 8,  9, 10, 11, 12, 13, 14])"
      ]
     },
     "execution_count": 34,
     "metadata": {},
     "output_type": "execute_result"
    }
   ],
   "source": [
    "# Get specific row\n",
    "arr[1,:]"
   ]
  },
  {
   "cell_type": "code",
   "execution_count": 35,
   "id": "995a462f-c370-4de9-99b8-859703a4ef2c",
   "metadata": {},
   "outputs": [
    {
     "data": {
      "text/plain": [
       "array([ 3, 10])"
      ]
     },
     "execution_count": 35,
     "metadata": {},
     "output_type": "execute_result"
    }
   ],
   "source": [
    "# Get specific column\n",
    "arr[:,2]"
   ]
  },
  {
   "cell_type": "code",
   "execution_count": 40,
   "id": "2b6d234f-9e69-41d5-bc7c-1d54e4e444e7",
   "metadata": {},
   "outputs": [
    {
     "data": {
      "text/plain": [
       "array([ 8, 10])"
      ]
     },
     "execution_count": 40,
     "metadata": {},
     "output_type": "execute_result"
    }
   ],
   "source": [
    "# Getting little of fancey\n",
    "arr[1,0:4:2]"
   ]
  },
  {
   "cell_type": "markdown",
   "id": "cf9afd60-b867-4213-9a45-03589f9e25b1",
   "metadata": {},
   "source": [
    "#### 3D"
   ]
  },
  {
   "cell_type": "code",
   "execution_count": 43,
   "id": "3aa21ab5-b4f7-4a14-a9b5-c3bc4175d591",
   "metadata": {},
   "outputs": [
    {
     "data": {
      "text/plain": [
       "array([[[1, 2],\n",
       "        [3, 4]],\n",
       "\n",
       "       [[5, 6],\n",
       "        [7, 8]]])"
      ]
     },
     "execution_count": 43,
     "metadata": {},
     "output_type": "execute_result"
    }
   ],
   "source": [
    "arr3d = np.array([[[1,2],[3,4]],[[5,6],[7,8]]])\n",
    "arr3d"
   ]
  },
  {
   "cell_type": "code",
   "execution_count": 45,
   "id": "f56b9c34-4046-4f4b-8bbe-902c292ea758",
   "metadata": {},
   "outputs": [
    {
     "data": {
      "text/plain": [
       "array([[2, 4],\n",
       "       [6, 8]])"
      ]
     },
     "execution_count": 45,
     "metadata": {},
     "output_type": "execute_result"
    }
   ],
   "source": [
    "arr3d[:,:,1]"
   ]
  },
  {
   "cell_type": "code",
   "execution_count": 50,
   "id": "eb59123f-69fe-4daf-8ec9-e997333b5e1d",
   "metadata": {},
   "outputs": [
    {
     "data": {
      "text/plain": [
       "array([[[0.],\n",
       "        [0.],\n",
       "        [0.]],\n",
       "\n",
       "       [[0.],\n",
       "        [0.],\n",
       "        [0.]]])"
      ]
     },
     "execution_count": 50,
     "metadata": {},
     "output_type": "execute_result"
    }
   ],
   "source": [
    "# Matrix of all zeroes\n",
    "np.zeros((2,3,1))"
   ]
  },
  {
   "cell_type": "code",
   "execution_count": 52,
   "id": "db56c496-af3c-4baf-b83e-60cfbfe214da",
   "metadata": {},
   "outputs": [
    {
     "data": {
      "text/plain": [
       "array([[[1, 1, 1],\n",
       "        [1, 1, 1]]])"
      ]
     },
     "execution_count": 52,
     "metadata": {},
     "output_type": "execute_result"
    }
   ],
   "source": [
    "# Matrix of all ones\n",
    "np.ones((1,2,3))\n",
    "np.ones((1,2,3),dtype = 'int32')"
   ]
  },
  {
   "cell_type": "code",
   "execution_count": 54,
   "id": "7186c7de-497c-4572-9788-bbd7dee291ff",
   "metadata": {},
   "outputs": [
    {
     "data": {
      "text/plain": [
       "array([[99, 99],\n",
       "       [99, 99]])"
      ]
     },
     "execution_count": 54,
     "metadata": {},
     "output_type": "execute_result"
    }
   ],
   "source": [
    "# Custome number array\n",
    "np.full((2,2),99)\n",
    "np.full((2,2),99,dtype= 'int32')"
   ]
  },
  {
   "cell_type": "code",
   "execution_count": 57,
   "id": "4f8681d4-b884-4afe-b41b-5860d9481b2f",
   "metadata": {},
   "outputs": [
    {
     "data": {
      "text/plain": [
       "array([5, 5, 5, 5])"
      ]
     },
     "execution_count": 57,
     "metadata": {},
     "output_type": "execute_result"
    }
   ],
   "source": [
    "# More like this...0\n",
    "#np.full_like\n",
    "np.full_like(a,5)"
   ]
  },
  {
   "cell_type": "code",
   "execution_count": 59,
   "id": "cdfe95d7-b739-448d-903b-063c3711fda8",
   "metadata": {},
   "outputs": [
    {
     "data": {
      "text/plain": [
       "array([[0.10332611, 0.58689052],\n",
       "       [0.56083302, 0.72103396],\n",
       "       [0.89277908, 0.99865558],\n",
       "       [0.97365773, 0.57236944]])"
      ]
     },
     "execution_count": 59,
     "metadata": {},
     "output_type": "execute_result"
    }
   ],
   "source": [
    "# Random decimal numbers between 0-1\n",
    "np.random.rand(4,2)"
   ]
  },
  {
   "cell_type": "code",
   "execution_count": 62,
   "id": "a01ffd04-3993-479a-bc11-a068b391ead7",
   "metadata": {},
   "outputs": [
    {
     "data": {
      "text/plain": [
       "array([0.51201759, 0.61335508, 0.60648733, 0.28233056])"
      ]
     },
     "execution_count": 62,
     "metadata": {},
     "output_type": "execute_result"
    }
   ],
   "source": [
    "# Make a random array with the dimensions of a \n",
    "np.random.random_sample(a.shape)"
   ]
  },
  {
   "cell_type": "code",
   "execution_count": 74,
   "id": "d6d172ac-1a64-4756-acd4-dcab35394027",
   "metadata": {},
   "outputs": [
    {
     "data": {
      "text/plain": [
       "array([[ 2,  0, -2],\n",
       "       [ 2, -2,  2],\n",
       "       [ 2, -3,  1]])"
      ]
     },
     "execution_count": 74,
     "metadata": {},
     "output_type": "execute_result"
    }
   ],
   "source": [
    "# Random sample of integers.\n",
    "np.random.randint(-3,3,size=(3,3))"
   ]
  },
  {
   "cell_type": "code",
   "execution_count": 77,
   "id": "cfe52b79-04ab-4962-85d1-111134f2ad2e",
   "metadata": {},
   "outputs": [
    {
     "data": {
      "text/plain": [
       "array([[1, 0, 0],\n",
       "       [0, 1, 0],\n",
       "       [0, 0, 1]])"
      ]
     },
     "execution_count": 77,
     "metadata": {},
     "output_type": "execute_result"
    }
   ],
   "source": [
    "# Create a identity matrix\n",
    "np.identity(3,dtype='int32')"
   ]
  },
  {
   "cell_type": "code",
   "execution_count": 83,
   "id": "445ba456-f810-489d-87b1-00510b95907a",
   "metadata": {},
   "outputs": [
    {
     "data": {
      "text/plain": [
       "array([[1, 2, 3],\n",
       "       [1, 2, 3],\n",
       "       [1, 2, 3]])"
      ]
     },
     "execution_count": 83,
     "metadata": {},
     "output_type": "execute_result"
    }
   ],
   "source": [
    "arr_r = np.array([[1,2,3]])\n",
    "np.repeat(arr_r,3,axis = 0)"
   ]
  },
  {
   "cell_type": "code",
   "execution_count": 90,
   "id": "b9a554a0-34ce-491c-b287-327a4f3b24d2",
   "metadata": {},
   "outputs": [
    {
     "data": {
      "text/plain": [
       "array([[1, 1, 1, 1, 1],\n",
       "       [1, 0, 0, 0, 1],\n",
       "       [1, 0, 9, 0, 1],\n",
       "       [1, 0, 0, 0, 1],\n",
       "       [1, 1, 1, 1, 1]], dtype=int64)"
      ]
     },
     "execution_count": 90,
     "metadata": {},
     "output_type": "execute_result"
    }
   ],
   "source": [
    "#practice Problem\n",
    "\n",
    "p1 = np.ones((5,5),dtype= 'int64')\n",
    "p1[1:4,1:4] = np.zeros((3,3))\n",
    "p1[2,2] = 9\n",
    "p1"
   ]
  },
  {
   "cell_type": "markdown",
   "id": "ca7c9831-5de7-4a3e-9ba0-eca1b37b3788",
   "metadata": {},
   "source": [
    "#### Be carefull while trying to copy array!!"
   ]
  },
  {
   "cell_type": "code",
   "execution_count": 97,
   "id": "9a419ac7-16ed-4107-b561-05debd01890f",
   "metadata": {},
   "outputs": [
    {
     "data": {
      "text/plain": [
       "(array([  1, 100,   3]), array([  1, 100,   3]))"
      ]
     },
     "execution_count": 97,
     "metadata": {},
     "output_type": "execute_result"
    }
   ],
   "source": [
    "# Problem\n",
    "a = np.array([1,2,3])\n",
    "b = a\n",
    "b[1] = 100\n",
    "# If we change b , a changes with it\n",
    "a , b"
   ]
  },
  {
   "cell_type": "code",
   "execution_count": 96,
   "id": "dd9122a2-827f-4396-9f67-9e0bcf76b121",
   "metadata": {},
   "outputs": [
    {
     "data": {
      "text/plain": [
       "(array([1, 2, 3]), array([  1, 100,   3]))"
      ]
     },
     "execution_count": 96,
     "metadata": {},
     "output_type": "execute_result"
    }
   ],
   "source": [
    "# Solution\n",
    "a = np.array([1,2,3])\n",
    "b = a.copy()\n",
    "b[1] = 100\n",
    "a , b"
   ]
  },
  {
   "cell_type": "markdown",
   "id": "6f36d4d9-3b15-4499-a18a-37b991956488",
   "metadata": {},
   "source": [
    "#### Math\n"
   ]
  },
  {
   "cell_type": "code",
   "execution_count": 102,
   "id": "fb69bb84-a864-46fe-9642-2756b557ec16",
   "metadata": {},
   "outputs": [],
   "source": [
    " a = np.array([1,2,3,4,5,6,7])"
   ]
  },
  {
   "cell_type": "code",
   "execution_count": 103,
   "id": "d005d59b-1bca-4a4a-b0f0-82b9ebba56d6",
   "metadata": {},
   "outputs": [
    {
     "data": {
      "text/plain": [
       "array([0, 1, 2, 3, 4, 5, 6])"
      ]
     },
     "execution_count": 103,
     "metadata": {},
     "output_type": "execute_result"
    }
   ],
   "source": [
    "a -1"
   ]
  },
  {
   "cell_type": "code",
   "execution_count": 104,
   "id": "411e9690-e55b-4ec7-82f8-f41b6c3b99bf",
   "metadata": {},
   "outputs": [
    {
     "data": {
      "text/plain": [
       "array([2, 3, 4, 5, 6, 7, 8])"
      ]
     },
     "execution_count": 104,
     "metadata": {},
     "output_type": "execute_result"
    }
   ],
   "source": [
    "a + 1"
   ]
  },
  {
   "cell_type": "code",
   "execution_count": 105,
   "id": "194ca3bf-eab2-473f-9475-d99a1a2995ca",
   "metadata": {},
   "outputs": [
    {
     "data": {
      "text/plain": [
       "array([ 2,  4,  6,  8, 10, 12, 14])"
      ]
     },
     "execution_count": 105,
     "metadata": {},
     "output_type": "execute_result"
    }
   ],
   "source": [
    "a * 2"
   ]
  },
  {
   "cell_type": "code",
   "execution_count": 108,
   "id": "9d54d5ed-587c-43e0-a9ef-9c5f1a79e34c",
   "metadata": {},
   "outputs": [
    {
     "data": {
      "text/plain": [
       "array([0.5, 1. , 1.5, 2. , 2.5, 3. , 3.5])"
      ]
     },
     "execution_count": 108,
     "metadata": {},
     "output_type": "execute_result"
    }
   ],
   "source": [
    "a / 2"
   ]
  },
  {
   "cell_type": "code",
   "execution_count": 109,
   "id": "425c69d2-f55b-459b-a0c3-30c42377ebac",
   "metadata": {},
   "outputs": [
    {
     "data": {
      "text/plain": [
       "array([ 1,  4,  9, 16, 25, 36, 49])"
      ]
     },
     "execution_count": 109,
     "metadata": {},
     "output_type": "execute_result"
    }
   ],
   "source": [
    "a ** 2"
   ]
  },
  {
   "cell_type": "code",
   "execution_count": 111,
   "id": "4cf176ec-50a2-4c90-94ce-5909ca55e721",
   "metadata": {},
   "outputs": [
    {
     "data": {
      "text/plain": [
       "array([ 0.84147098,  0.90929743,  0.14112001, -0.7568025 , -0.95892427,\n",
       "       -0.2794155 ,  0.6569866 ])"
      ]
     },
     "execution_count": 111,
     "metadata": {},
     "output_type": "execute_result"
    }
   ],
   "source": [
    "np.sin(a)"
   ]
  },
  {
   "cell_type": "markdown",
   "id": "3e2bf573-1df8-49fc-a915-b2c1f2e0a463",
   "metadata": {},
   "source": [
    "#### Linear Algebra"
   ]
  },
  {
   "cell_type": "code",
   "execution_count": 124,
   "id": "c89cbe3c-3d75-4d4b-a4f4-a3fd15fe38f5",
   "metadata": {},
   "outputs": [
    {
     "data": {
      "text/plain": [
       "(array([[1, 1, 1],\n",
       "        [1, 1, 1]]),\n",
       " array([[3, 3],\n",
       "        [3, 3],\n",
       "        [3, 3]]),\n",
       " array([[9, 9],\n",
       "        [9, 9]]))"
      ]
     },
     "execution_count": 124,
     "metadata": {},
     "output_type": "execute_result"
    }
   ],
   "source": [
    "# Matrix multiplication\n",
    "a = np.ones((2,3),dtype='int32')\n",
    "b = np.full((3,2),3,dtype='int32')\n",
    "a ,b , np.matmul(a,b)"
   ]
  },
  {
   "cell_type": "code",
   "execution_count": 123,
   "id": "7a7f7e9d-5fe5-4315-912d-cf65843713bc",
   "metadata": {},
   "outputs": [
    {
     "data": {
      "text/plain": [
       "1.0"
      ]
     },
     "execution_count": 123,
     "metadata": {},
     "output_type": "execute_result"
    }
   ],
   "source": [
    "# Determinent\n",
    "\n",
    "c = np.identity(3)\n",
    "np.linalg.det(c)"
   ]
  },
  {
   "cell_type": "markdown",
   "id": "1168fbef-dd82-4e7a-bb9f-82fb7d66424b",
   "metadata": {},
   "source": [
    "### For routine and exploration for linear algebra in numpy: https://numpy.org/doc/stable/reference/routines.linalg.html"
   ]
  },
  {
   "cell_type": "markdown",
   "id": "b24b4fc2-ccd7-4644-93bb-9dd6dc38b9dc",
   "metadata": {},
   "source": [
    "#### Statistics with numpy"
   ]
  },
  {
   "cell_type": "code",
   "execution_count": 126,
   "id": "de4a08a7-6084-4369-9495-7e73a92df5e4",
   "metadata": {},
   "outputs": [
    {
     "data": {
      "text/plain": [
       "array([[1, 2, 3],\n",
       "       [4, 5, 6]])"
      ]
     },
     "execution_count": 126,
     "metadata": {},
     "output_type": "execute_result"
    }
   ],
   "source": [
    "stats = np.array([[1,2,3],[4,5,6]])\n",
    "stats"
   ]
  },
  {
   "cell_type": "code",
   "execution_count": 129,
   "id": "ef64b304-ff93-440a-8ff8-98de91ce10b5",
   "metadata": {},
   "outputs": [
    {
     "data": {
      "text/plain": [
       "array([1, 4])"
      ]
     },
     "execution_count": 129,
     "metadata": {},
     "output_type": "execute_result"
    }
   ],
   "source": [
    "np.min(stats,axis=1)\n"
   ]
  },
  {
   "cell_type": "code",
   "execution_count": 130,
   "id": "81d38013-3e16-4bf1-921c-c3d3231ce21d",
   "metadata": {},
   "outputs": [
    {
     "data": {
      "text/plain": [
       "array([3, 6])"
      ]
     },
     "execution_count": 130,
     "metadata": {},
     "output_type": "execute_result"
    }
   ],
   "source": [
    "np.max(stats,axis= 1)"
   ]
  },
  {
   "cell_type": "code",
   "execution_count": 131,
   "id": "9e8a4022-a9f1-49fc-a129-f574db4e94c1",
   "metadata": {},
   "outputs": [
    {
     "data": {
      "text/plain": [
       "array([ 6, 15])"
      ]
     },
     "execution_count": 131,
     "metadata": {},
     "output_type": "execute_result"
    }
   ],
   "source": [
    "np.sum(stats,axis =1)"
   ]
  },
  {
   "cell_type": "markdown",
   "id": "877cc477-8472-450a-ac2b-500ff31316f3",
   "metadata": {},
   "source": [
    "#### reorganize the arrays"
   ]
  },
  {
   "cell_type": "code",
   "execution_count": 149,
   "id": "5c916938-cebd-4d50-9a45-59603f423bb7",
   "metadata": {},
   "outputs": [
    {
     "data": {
      "text/plain": [
       "array([[[1, 2, 3],\n",
       "        [4, 5, 1]],\n",
       "\n",
       "       [[4, 5, 6],\n",
       "        [7, 8, 9]]])"
      ]
     },
     "execution_count": 149,
     "metadata": {},
     "output_type": "execute_result"
    }
   ],
   "source": [
    "before = np.array([[1,2,3,4,5,1],[4,5,6,7,8,9]])\n",
    "after = before.reshape((2,2,3))\n",
    "after"
   ]
  },
  {
   "cell_type": "markdown",
   "id": "b42be033-53fb-43f2-8f05-554013bfb232",
   "metadata": {},
   "source": [
    "#### Vertically static vertices"
   ]
  },
  {
   "cell_type": "code",
   "execution_count": 152,
   "id": "6871bc91-2874-4e8b-b88d-df03978c5ed5",
   "metadata": {},
   "outputs": [
    {
     "data": {
      "text/plain": [
       "array([[1, 2, 3, 4],\n",
       "       [5, 6, 7, 8],\n",
       "       [1, 2, 3, 4]])"
      ]
     },
     "execution_count": 152,
     "metadata": {},
     "output_type": "execute_result"
    }
   ],
   "source": [
    "v1 = np.array([1,2,3,4])\n",
    "v2 = np.array([5,6,7,8])\n",
    "np.vstack([v1,v2,v1])"
   ]
  },
  {
   "cell_type": "markdown",
   "id": "bdb1c09e-4bac-4563-ac3b-e686dd72c6b6",
   "metadata": {},
   "source": [
    "#### Horizontal stacking "
   ]
  },
  {
   "cell_type": "code",
   "execution_count": 155,
   "id": "4c0e4f7c-2231-4d8f-89fb-37bcab43fcd7",
   "metadata": {},
   "outputs": [
    {
     "data": {
      "text/plain": [
       "array([1, 2, 3, 4, 5, 6, 7, 8, 1, 2, 3, 4])"
      ]
     },
     "execution_count": 155,
     "metadata": {},
     "output_type": "execute_result"
    }
   ],
   "source": [
    "h1 = np.array([1,2,3,4])\n",
    "h2 = np.array([5,6,7,8])\n",
    "np.hstack([h1,h2,h1])"
   ]
  },
  {
   "cell_type": "markdown",
   "id": "479845ad-2994-4b6f-8775-c67bda46cf37",
   "metadata": {},
   "source": [
    "#### Miscellaneous "
   ]
  },
  {
   "cell_type": "markdown",
   "id": "1c229c93-d461-49c0-8ee6-d1fd9c1229f6",
   "metadata": {},
   "source": [
    "##### Load Data from the file"
   ]
  },
  {
   "cell_type": "code",
   "execution_count": 161,
   "id": "2f9e0144-a6b5-4fdb-a0e5-31fe9c1acbdc",
   "metadata": {},
   "outputs": [],
   "source": [
    "file_data = np.genfromtxt('npFileTempData.txt',delimiter=',',dtype='int16')"
   ]
  },
  {
   "cell_type": "markdown",
   "id": "a101d394-9b1c-4aee-bcf4-b214494659b5",
   "metadata": {},
   "source": [
    "#### Boolean masking and advance indexing "
   ]
  },
  {
   "cell_type": "code",
   "execution_count": 162,
   "id": "45f47804-9a82-4bec-9ab8-26c694e1bf5d",
   "metadata": {},
   "outputs": [
    {
     "data": {
      "text/plain": [
       "array([[False, False, False, False, False, False, False, False, False,\n",
       "        False],\n",
       "       [False, False, False, False, False, False, False, False, False,\n",
       "        False],\n",
       "       [False, False, False, False,  True,  True,  True,  True,  True,\n",
       "        False],\n",
       "       [False,  True,  True,  True,  True,  True, False, False, False,\n",
       "        False]])"
      ]
     },
     "execution_count": 162,
     "metadata": {},
     "output_type": "execute_result"
    }
   ],
   "source": [
    "file_data > 50"
   ]
  },
  {
   "cell_type": "code",
   "execution_count": 163,
   "id": "183da09d-8aa9-4923-930e-26638fe20efe",
   "metadata": {},
   "outputs": [
    {
     "data": {
      "text/plain": [
       "array([55, 66, 77, 88, 99, 99, 88, 77, 66, 55], dtype=int16)"
      ]
     },
     "execution_count": 163,
     "metadata": {},
     "output_type": "execute_result"
    }
   ],
   "source": [
    "file_data[file_data>50]"
   ]
  },
  {
   "cell_type": "markdown",
   "id": "564ce69e-3c0c-446b-8cb9-a275dcbf9a7b",
   "metadata": {},
   "source": [
    "#### we can index with the list in numpy . Cool!!!"
   ]
  },
  {
   "cell_type": "code",
   "execution_count": 164,
   "id": "1ed7e24a-a875-4932-80e4-9d16a0e9d9db",
   "metadata": {},
   "outputs": [
    {
     "data": {
      "text/plain": [
       "array([2, 3])"
      ]
     },
     "execution_count": 164,
     "metadata": {},
     "output_type": "execute_result"
    }
   ],
   "source": [
    "temp_arr = np.array([1,2,3,4,5])\n",
    "temp_arr[[1,2]]"
   ]
  },
  {
   "cell_type": "code",
   "execution_count": 169,
   "id": "e64a57d6-fae3-471c-9e7f-45a2a53f86d4",
   "metadata": {},
   "outputs": [
    {
     "data": {
      "text/plain": [
       "array([False,  True,  True,  True,  True,  True,  True,  True,  True,\n",
       "       False])"
      ]
     },
     "execution_count": 169,
     "metadata": {},
     "output_type": "execute_result"
    }
   ],
   "source": [
    "# Which columns has value greater then 50\n",
    "np.any(file_data > 50,axis = 0)"
   ]
  },
  {
   "cell_type": "code",
   "execution_count": 170,
   "id": "b78dc66b-8934-4a6c-aa1e-c056b4f5a9c8",
   "metadata": {},
   "outputs": [
    {
     "data": {
      "text/plain": [
       "array([False, False,  True,  True])"
      ]
     },
     "execution_count": 170,
     "metadata": {},
     "output_type": "execute_result"
    }
   ],
   "source": [
    "#Which rows has values greater the 50 \n",
    "np.any(file_data > 50, axis = 1)"
   ]
  },
  {
   "cell_type": "code",
   "execution_count": 193,
   "id": "dedfe40f-bf72-4db9-acb2-ce187defbf25",
   "metadata": {},
   "outputs": [
    {
     "data": {
      "text/plain": [
       "array([False, False, False, False])"
      ]
     },
     "execution_count": 193,
     "metadata": {},
     "output_type": "execute_result"
    }
   ],
   "source": [
    "# Which rows has all data greater then 3\n",
    "np.all(file_data > 3 , axis = 1)"
   ]
  },
  {
   "cell_type": "code",
   "execution_count": 192,
   "id": "30396c9b-7f03-425f-9ddf-7e1356c63591",
   "metadata": {},
   "outputs": [
    {
     "data": {
      "text/plain": [
       "array([False, False, False,  True,  True,  True,  True, False, False,\n",
       "       False])"
      ]
     },
     "execution_count": 192,
     "metadata": {},
     "output_type": "execute_result"
    }
   ],
   "source": [
    "# Which calumns has all data greater then 3\n",
    "np.all(file_data > 3 , axis = 0)"
   ]
  },
  {
   "cell_type": "code",
   "execution_count": 197,
   "id": "d1158974-ae19-43dd-9323-e094ce82a07f",
   "metadata": {},
   "outputs": [
    {
     "data": {
      "text/plain": [
       "array([[False, False, False, False, False, False, False, False, False,\n",
       "        False],\n",
       "       [False, False, False, False, False, False, False, False, False,\n",
       "        False],\n",
       "       [ True,  True,  True,  True, False, False, False, False, False,\n",
       "        False],\n",
       "       [False, False, False, False, False, False,  True,  True,  True,\n",
       "         True]])"
      ]
     },
     "execution_count": 197,
     "metadata": {},
     "output_type": "execute_result"
    }
   ],
   "source": [
    "#Values greater then 10 and less then 50\n",
    "((file_data > 10) & (file_data < 50))"
   ]
  },
  {
   "cell_type": "code",
   "execution_count": 198,
   "id": "27c3c8be-b903-49a5-9818-edba640abcb7",
   "metadata": {},
   "outputs": [
    {
     "data": {
      "text/plain": [
       "array([[ True,  True,  True,  True,  True,  True,  True,  True,  True,\n",
       "         True],\n",
       "       [ True,  True,  True,  True,  True,  True,  True,  True,  True,\n",
       "         True],\n",
       "       [False, False, False, False, False, False, False, False, False,\n",
       "         True],\n",
       "       [ True, False, False, False, False, False, False, False, False,\n",
       "        False]])"
      ]
     },
     "execution_count": 198,
     "metadata": {},
     "output_type": "execute_result"
    }
   ],
   "source": [
    "#Values not greater then 10 and not less then 50\n",
    "(~(file_data > 10) & (file_data < 50))"
   ]
  },
  {
   "cell_type": "markdown",
   "id": "42a4d748-28e7-4a27-a11a-668f458e91b3",
   "metadata": {},
   "source": [
    "Questions  1 Blue , 2 Green , 3 Red\n",
    "\n",
    "![alt text](NumpyQuestions.png \"Title\")"
   ]
  },
  {
   "cell_type": "code",
   "execution_count": 211,
   "id": "921454b5-3baf-4825-a9f9-d02adf982c35",
   "metadata": {},
   "outputs": [],
   "source": [
    "arr = np.array([np.array(range(1,6)),np.array(range(6,11)),np.array(range(11,16)),np.array(range(16,21)),np.array(range(21,26)),np.array(range(26,31))])"
   ]
  },
  {
   "cell_type": "code",
   "execution_count": 210,
   "id": "e6e55dbd-e2bb-4561-a0c8-6478472b728e",
   "metadata": {},
   "outputs": [
    {
     "data": {
      "text/plain": [
       "array([[11, 12],\n",
       "       [16, 17]])"
      ]
     },
     "execution_count": 210,
     "metadata": {},
     "output_type": "execute_result"
    }
   ],
   "source": [
    "# 1\n",
    "arr[2:4,0:2]"
   ]
  },
  {
   "cell_type": "code",
   "execution_count": 213,
   "id": "c0533977-577f-48f5-8de9-630922a30131",
   "metadata": {},
   "outputs": [
    {
     "data": {
      "text/plain": [
       "array([ 2,  8, 14, 20])"
      ]
     },
     "execution_count": 213,
     "metadata": {},
     "output_type": "execute_result"
    }
   ],
   "source": [
    "# 2\n",
    "arr[[0,1,2,3],[1,2,3,4]]"
   ]
  },
  {
   "cell_type": "code",
   "execution_count": 220,
   "id": "a0f79c0f-0122-43d9-bab2-1a0ed49e56eb",
   "metadata": {},
   "outputs": [
    {
     "data": {
      "text/plain": [
       "array([[ 4,  5],\n",
       "       [24, 25],\n",
       "       [29, 30]])"
      ]
     },
     "execution_count": 220,
     "metadata": {},
     "output_type": "execute_result"
    }
   ],
   "source": [
    "arr[[0,4,5],3:5]"
   ]
  }
 ],
 "metadata": {
  "kernelspec": {
   "display_name": "Python 3 (ipykernel)",
   "language": "python",
   "name": "python3"
  },
  "language_info": {
   "codemirror_mode": {
    "name": "ipython",
    "version": 3
   },
   "file_extension": ".py",
   "mimetype": "text/x-python",
   "name": "python",
   "nbconvert_exporter": "python",
   "pygments_lexer": "ipython3",
   "version": "3.11.7"
  }
 },
 "nbformat": 4,
 "nbformat_minor": 5
}
